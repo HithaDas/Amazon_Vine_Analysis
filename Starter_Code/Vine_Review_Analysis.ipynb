{
  "nbformat": 4,
  "nbformat_minor": 0,
  "metadata": {
    "colab": {
      "provenance": []
    },
    "kernelspec": {
      "name": "python3",
      "display_name": "Python 3"
    },
    "language_info": {
      "name": "python"
    }
  },
  "cells": [
    {
      "cell_type": "code",
      "execution_count": 1,
      "metadata": {
        "colab": {
          "base_uri": "https://localhost:8080/"
        },
        "id": "FRBnbUfXMajd",
        "outputId": "4d12dac6-b438-4387-c4e5-511f3cf3f072"
      },
      "outputs": [
        {
          "output_type": "stream",
          "name": "stdout",
          "text": [
            "Looking in indexes: https://pypi.org/simple, https://us-python.pkg.dev/colab-wheels/public/simple/\n",
            "Collecting pyspark\n",
            "  Downloading pyspark-3.3.1.tar.gz (281.4 MB)\n",
            "\u001b[K     |████████████████████████████████| 281.4 MB 44 kB/s \n",
            "\u001b[?25hCollecting py4j==0.10.9.5\n",
            "  Downloading py4j-0.10.9.5-py2.py3-none-any.whl (199 kB)\n",
            "\u001b[K     |████████████████████████████████| 199 kB 50.8 MB/s \n",
            "\u001b[?25hBuilding wheels for collected packages: pyspark\n",
            "  Building wheel for pyspark (setup.py) ... \u001b[?25l\u001b[?25hdone\n",
            "  Created wheel for pyspark: filename=pyspark-3.3.1-py2.py3-none-any.whl size=281845512 sha256=94ce08ca86f1df8125d12cf78252dc1a0154200c77381e7649a6b2d739772d1e\n",
            "  Stored in directory: /root/.cache/pip/wheels/43/dc/11/ec201cd671da62fa9c5cc77078235e40722170ceba231d7598\n",
            "Successfully built pyspark\n",
            "Installing collected packages: py4j, pyspark\n",
            "Successfully installed py4j-0.10.9.5 pyspark-3.3.1\n"
          ]
        }
      ],
      "source": [
        "# Module 17 Deliverable 2\n",
        "\n",
        "# install pyspark\n",
        "!pip install pyspark"
      ]
    },
    {
      "cell_type": "code",
      "source": [
        "# Download the Postgres driver that will allow Spark to interact with Postgres.\n",
        "!wget https://jdbc.postgresql.org/download/postgresql-42.2.16.jar"
      ],
      "metadata": {
        "colab": {
          "base_uri": "https://localhost:8080/"
        },
        "id": "m04tFV_xNKMM",
        "outputId": "a723bdca-08a5-4ba9-d148-6980af450092"
      },
      "execution_count": 2,
      "outputs": [
        {
          "output_type": "stream",
          "name": "stdout",
          "text": [
            "--2022-12-19 02:27:59--  https://jdbc.postgresql.org/download/postgresql-42.2.16.jar\n",
            "Resolving jdbc.postgresql.org (jdbc.postgresql.org)... 72.32.157.228, 2001:4800:3e1:1::228\n",
            "Connecting to jdbc.postgresql.org (jdbc.postgresql.org)|72.32.157.228|:443... connected.\n",
            "HTTP request sent, awaiting response... 200 OK\n",
            "Length: 1002883 (979K) [application/java-archive]\n",
            "Saving to: ‘postgresql-42.2.16.jar’\n",
            "\n",
            "postgresql-42.2.16. 100%[===================>] 979.38K  --.-KB/s    in 0.09s   \n",
            "\n",
            "2022-12-19 02:27:59 (11.1 MB/s) - ‘postgresql-42.2.16.jar’ saved [1002883/1002883]\n",
            "\n"
          ]
        }
      ]
    },
    {
      "cell_type": "code",
      "source": [
        "from pyspark.sql import SparkSession\n",
        "spark = SparkSession.builder.appName(\"M17-Amazon-Challenge\").config(\"spark.driver.extraClassPath\",\"/content/postgresql-42.2.16.jar\").getOrCreate()"
      ],
      "metadata": {
        "id": "J884bRmVNM4h"
      },
      "execution_count": 3,
      "outputs": []
    },
    {
      "cell_type": "code",
      "source": [
        "# Load Amazon Data into Spark DataFrame\n",
        "from pyspark import SparkFiles\n",
        "url = \"https://s3.amazonaws.com/amazon-reviews-pds/tsv/amazon_reviews_us_Video_Games_v1_00.tsv.gz\"\n",
        "spark.sparkContext.addFile(url)\n",
        "# Read in the Review dataset as a DataFrame\n",
        "df = spark.read.option(\"encoding\", \"UTF-8\").csv(SparkFiles.get(\"amazon_reviews_us_Video_Games_v1_00.tsv.gz\"), sep=\"\\t\", header=True, inferSchema=True)\n",
        "df.show()"
      ],
      "metadata": {
        "colab": {
          "base_uri": "https://localhost:8080/"
        },
        "id": "eZiFE_W2NQKI",
        "outputId": "39f633fb-7001-45ba-b073-4cc43c8f0a2b"
      },
      "execution_count": 4,
      "outputs": [
        {
          "output_type": "stream",
          "name": "stdout",
          "text": [
            "+-----------+-----------+--------------+----------+--------------+--------------------+----------------+-----------+-------------+-----------+----+-----------------+--------------------+--------------------+-------------------+\n",
            "|marketplace|customer_id|     review_id|product_id|product_parent|       product_title|product_category|star_rating|helpful_votes|total_votes|vine|verified_purchase|     review_headline|         review_body|        review_date|\n",
            "+-----------+-----------+--------------+----------+--------------+--------------------+----------------+-----------+-------------+-----------+----+-----------------+--------------------+--------------------+-------------------+\n",
            "|         US|   12039526| RTIS3L2M1F5SM|B001CXYMFS|     737716809|Thrustmaster T-Fl...|     Video Games|          5|            0|          0|   N|                Y|an amazing joysti...|Used this for Eli...|2015-08-31 00:00:00|\n",
            "|         US|    9636577| R1ZV7R40OLHKD|B00M920ND6|     569686175|Tonsee 6 buttons ...|     Video Games|          5|            0|          0|   N|                Y|Definitely a sile...|Loved it,  I didn...|2015-08-31 00:00:00|\n",
            "|         US|    2331478|R3BH071QLH8QMC|B0029CSOD2|      98937668|Hidden Mysteries:...|     Video Games|          1|            0|          1|   N|                Y|            One Star|poor quality work...|2015-08-31 00:00:00|\n",
            "|         US|   52495923|R127K9NTSXA2YH|B00GOOSV98|      23143350|GelTabz Performan...|     Video Games|          3|            0|          0|   N|                Y|good, but could b...|nice, but tend to...|2015-08-31 00:00:00|\n",
            "|         US|   14533949|R32ZWUXDJPW27Q|B00Y074JOM|     821342511|Zero Suit Samus a...|     Video Games|          4|            0|          0|   N|                Y|   Great but flawed.|Great amiibo, gre...|2015-08-31 00:00:00|\n",
            "|         US|    2377552|R3AQQ4YUKJWBA6|B002UBI6W6|     328764615|Psyclone Recharge...|     Video Games|          1|            0|          0|   N|                Y|            One Star|The remote consta...|2015-08-31 00:00:00|\n",
            "|         US|   17521011|R2F0POU5K6F73F|B008XHCLFO|      24234603|Protection for yo...|     Video Games|          5|            0|          0|   N|                Y|              A Must|I have a 2012-201...|2015-08-31 00:00:00|\n",
            "|         US|   19676307|R3VNR804HYSMR6|B00BRA9R6A|     682267517|   Nerf 3DS XL Armor|     Video Games|          5|            0|          0|   N|                Y|          Five Stars|Perfect, kids lov...|2015-08-31 00:00:00|\n",
            "|         US|     224068| R3GZTM72WA2QH|B009EPWJLA|     435241890|One Piece: Pirate...|     Video Games|          5|            0|          0|   N|                Y|          Five Stars|            Excelent|2015-08-31 00:00:00|\n",
            "|         US|   48467989| RNQOY62705W1K|B0000AV7GB|     256572651|Playstation 2 Dan...|     Video Games|          4|            0|          0|   N|                Y|          Four Stars|Slippery but expe...|2015-08-31 00:00:00|\n",
            "|         US|     106569|R1VTIA3JTYBY02|B00008KTNN|     384411423|Metal Arms: Glitc...|     Video Games|          5|            0|          0|   N|                N|          Five Stars|Love the game. Se...|2015-08-31 00:00:00|\n",
            "|         US|   48269642|R29DOU8791QZL8|B000A3IA0Y|     472622859|72 Pin Connector ...|     Video Games|          1|            0|          0|   N|                Y| Game will get stuck|Does not fit prop...|2015-08-31 00:00:00|\n",
            "|         US|   52738710|R15DUT1VIJ9RJZ|B0053BQN34|     577628462|uDraw Gametablet ...|     Video Games|          2|            0|          0|   N|                Y|We have tried it ...|This was way too ...|2015-08-31 00:00:00|\n",
            "|         US|   10556786|R3IMF2MQ3OU9ZM|B002I0HIMI|     988218515|NBA 2K12(Covers M...|     Video Games|          4|            0|          0|   N|                Y|          Four Stars|Works great good ...|2015-08-31 00:00:00|\n",
            "|         US|    2963837|R23H79DHOZTYAU|B0081EH12M|     770100932|New Trigger Grips...|     Video Games|          1|            1|          1|   N|                Y|Now i have to buy...|It did not fit th...|2015-08-31 00:00:00|\n",
            "|         US|   23092109| RIV24EQAIXA4O|B005FMLZQQ|      24647669|Xbox 360 Media Re...|     Video Games|          5|            0|          0|   N|                Y|          Five Stars|perfect lightweig...|2015-08-31 00:00:00|\n",
            "|         US|   23091728|R3UCNGYDVN24YB|B002BSA388|      33706205|Super Mario Galaxy 2|     Video Games|          5|            0|          0|   N|                Y|          Five Stars|               great|2015-08-31 00:00:00|\n",
            "|         US|   10712640| RUL4H4XTTN2DY|B00BUSLSAC|     829667834|Nintendo 3DS XL -...|     Video Games|          5|            0|          0|   N|                Y|          Five Stars|Works beautifully...|2015-08-31 00:00:00|\n",
            "|         US|   17455376|R20JF7Z4DHTNX5|B00KWF38AW|     110680188|Captain Toad:  Tr...|     Video Games|          5|            0|          0|   N|                Y|          Five Stars|Kids loved the ga...|2015-08-31 00:00:00|\n",
            "|         US|   14754850|R2T1AJ5MFI2260|B00BRQJYA8|     616463426|Lego Batman 2: DC...|     Video Games|          4|            0|          0|   N|                Y|          Four Stars|           Goodngame|2015-08-31 00:00:00|\n",
            "+-----------+-----------+--------------+----------+--------------+--------------------+----------------+-----------+-------------+-----------+----+-----------------+--------------------+--------------------+-------------------+\n",
            "only showing top 20 rows\n",
            "\n"
          ]
        }
      ]
    },
    {
      "cell_type": "code",
      "source": [
        "# Drop null values\n",
        "dropna_df = df.dropna()\n",
        "dropna_df.show(10)\n",
        "     "
      ],
      "metadata": {
        "colab": {
          "base_uri": "https://localhost:8080/"
        },
        "id": "SqYV7TxMNXbA",
        "outputId": "b1381e15-c5c5-4a42-8780-f053d6c5f2de"
      },
      "execution_count": 5,
      "outputs": [
        {
          "output_type": "stream",
          "name": "stdout",
          "text": [
            "+-----------+-----------+--------------+----------+--------------+--------------------+----------------+-----------+-------------+-----------+----+-----------------+--------------------+--------------------+-------------------+\n",
            "|marketplace|customer_id|     review_id|product_id|product_parent|       product_title|product_category|star_rating|helpful_votes|total_votes|vine|verified_purchase|     review_headline|         review_body|        review_date|\n",
            "+-----------+-----------+--------------+----------+--------------+--------------------+----------------+-----------+-------------+-----------+----+-----------------+--------------------+--------------------+-------------------+\n",
            "|         US|   12039526| RTIS3L2M1F5SM|B001CXYMFS|     737716809|Thrustmaster T-Fl...|     Video Games|          5|            0|          0|   N|                Y|an amazing joysti...|Used this for Eli...|2015-08-31 00:00:00|\n",
            "|         US|    9636577| R1ZV7R40OLHKD|B00M920ND6|     569686175|Tonsee 6 buttons ...|     Video Games|          5|            0|          0|   N|                Y|Definitely a sile...|Loved it,  I didn...|2015-08-31 00:00:00|\n",
            "|         US|    2331478|R3BH071QLH8QMC|B0029CSOD2|      98937668|Hidden Mysteries:...|     Video Games|          1|            0|          1|   N|                Y|            One Star|poor quality work...|2015-08-31 00:00:00|\n",
            "|         US|   52495923|R127K9NTSXA2YH|B00GOOSV98|      23143350|GelTabz Performan...|     Video Games|          3|            0|          0|   N|                Y|good, but could b...|nice, but tend to...|2015-08-31 00:00:00|\n",
            "|         US|   14533949|R32ZWUXDJPW27Q|B00Y074JOM|     821342511|Zero Suit Samus a...|     Video Games|          4|            0|          0|   N|                Y|   Great but flawed.|Great amiibo, gre...|2015-08-31 00:00:00|\n",
            "|         US|    2377552|R3AQQ4YUKJWBA6|B002UBI6W6|     328764615|Psyclone Recharge...|     Video Games|          1|            0|          0|   N|                Y|            One Star|The remote consta...|2015-08-31 00:00:00|\n",
            "|         US|   17521011|R2F0POU5K6F73F|B008XHCLFO|      24234603|Protection for yo...|     Video Games|          5|            0|          0|   N|                Y|              A Must|I have a 2012-201...|2015-08-31 00:00:00|\n",
            "|         US|   19676307|R3VNR804HYSMR6|B00BRA9R6A|     682267517|   Nerf 3DS XL Armor|     Video Games|          5|            0|          0|   N|                Y|          Five Stars|Perfect, kids lov...|2015-08-31 00:00:00|\n",
            "|         US|     224068| R3GZTM72WA2QH|B009EPWJLA|     435241890|One Piece: Pirate...|     Video Games|          5|            0|          0|   N|                Y|          Five Stars|            Excelent|2015-08-31 00:00:00|\n",
            "|         US|   48467989| RNQOY62705W1K|B0000AV7GB|     256572651|Playstation 2 Dan...|     Video Games|          4|            0|          0|   N|                Y|          Four Stars|Slippery but expe...|2015-08-31 00:00:00|\n",
            "+-----------+-----------+--------------+----------+--------------+--------------------+----------------+-----------+-------------+-----------+----+-----------------+--------------------+--------------------+-------------------+\n",
            "only showing top 10 rows\n",
            "\n"
          ]
        }
      ]
    },
    {
      "cell_type": "code",
      "source": [
        "# Load in a sql function to use columns\n",
        "from pyspark.sql.functions import col\n",
        "\n",
        "# Drop duplicates\n",
        "clean_df = dropna_df.drop_duplicates()\n",
        "clean_df.show(10)"
      ],
      "metadata": {
        "colab": {
          "base_uri": "https://localhost:8080/"
        },
        "id": "W2EZQH4eNvIf",
        "outputId": "4b49fe23-8dc1-4a33-f2b7-f6cbd558f5d0"
      },
      "execution_count": 6,
      "outputs": [
        {
          "output_type": "stream",
          "name": "stdout",
          "text": [
            "+-----------+-----------+--------------+----------+--------------+--------------------+----------------+-----------+-------------+-----------+----+-----------------+--------------------+--------------------+-------------------+\n",
            "|marketplace|customer_id|     review_id|product_id|product_parent|       product_title|product_category|star_rating|helpful_votes|total_votes|vine|verified_purchase|     review_headline|         review_body|        review_date|\n",
            "+-----------+-----------+--------------+----------+--------------+--------------------+----------------+-----------+-------------+-----------+----+-----------------+--------------------+--------------------+-------------------+\n",
            "|         US|   20009611|R100E0YCS06YNR|B00EFFW0HC|     277685961|       Battlefield 4|     Video Games|          5|            0|          0|   N|                Y|          Five Stars|     great thank you|2015-07-04 00:00:00|\n",
            "|         US|   21036809|R100HR44BSB9I4|B007FTE2VW|     265303108|SimCity - Limited...|     Video Games|          1|            1|          1|   N|                Y|     Terrible Launch|I would love to r...|2013-03-07 00:00:00|\n",
            "|         US|    4444018|R100UABZOUF1JP|B005HN5LKY|     148114874|Gen AC Adapter Po...|     Video Games|          1|            0|          0|   N|                Y|Broken when deliv...|It was broken whe...|2015-08-17 00:00:00|\n",
            "|         US|   51581032|R101MOW8A5WC4J|B009LEIUY4|     563376217|Etrian Odyssey IV...|     Video Games|          5|            0|          0|   N|                Y|Great use of the ...|The first in the ...|2014-08-16 00:00:00|\n",
            "|         US|   41543132|R101X7KSBGIWF1|B00004UC1W|     940154393|eGames Bingo CD P...|     Video Games|          1|            0|          0|   N|                Y|            One Star|would not open re...|2014-12-28 00:00:00|\n",
            "|         US|    2074450|R101ZTSTDC8KQ4|B006WN5UM2|     304022369|Xia-Xia - Nintend...|     Video Games|          5|            0|          0|   N|                Y|didn't know what ...|Glad I bought thi...|2014-03-10 00:00:00|\n",
            "|         US|   11407363|R103Q4U55JZAD1|B0025KZV7A|     130147097|Left 4 Dead - Nin...|     Video Games|          5|            0|          0|   N|                Y|          great game|I purchased this ...|2011-09-06 00:00:00|\n",
            "|         US|   10547153|R103SW6BLR1HH6|B004ACGO0Y|     540734971|Wii Headbanger Ch...|     Video Games|          5|            0|          0|   N|                Y|A must for COD: B...|It's a must have ...|2011-09-25 00:00:00|\n",
            "|         US|   15338940|R1048AZPZ1XQVY|B005XTRC7M|     325268333|TV Anime: Fairy T...|     Video Games|          4|            0|          0|   N|                Y|          Four Stars|oops! its in japa...|2015-01-22 00:00:00|\n",
            "|         US|   49041788|R104C56FZRE21Q|B001US6O2Y|     855199089|KMD Gamecube Exte...|     Video Games|          5|            0|          0|   N|                Y|Extra length mean...|It does exactly w...|2015-05-20 00:00:00|\n",
            "+-----------+-----------+--------------+----------+--------------+--------------------+----------------+-----------+-------------+-----------+----+-----------------+--------------------+--------------------+-------------------+\n",
            "only showing top 10 rows\n",
            "\n"
          ]
        }
      ]
    },
    {
      "cell_type": "code",
      "source": [
        "# Create the Vine DataFrame\n",
        "vine_df = clean_df.select([\"review_id\", \"star_rating\", \"helpful_votes\", \"total_votes\", \"vine\", \"verified_purchase\"])\n",
        "vine_df.show(10)"
      ],
      "metadata": {
        "colab": {
          "base_uri": "https://localhost:8080/"
        },
        "id": "iWvVk-2gOEay",
        "outputId": "d51cef5f-cf83-4a21-f030-f8b4950e5614"
      },
      "execution_count": 7,
      "outputs": [
        {
          "output_type": "stream",
          "name": "stdout",
          "text": [
            "+--------------+-----------+-------------+-----------+----+-----------------+\n",
            "|     review_id|star_rating|helpful_votes|total_votes|vine|verified_purchase|\n",
            "+--------------+-----------+-------------+-----------+----+-----------------+\n",
            "|R100E0YCS06YNR|          5|            0|          0|   N|                Y|\n",
            "|R100HR44BSB9I4|          1|            1|          1|   N|                Y|\n",
            "|R100UABZOUF1JP|          1|            0|          0|   N|                Y|\n",
            "|R101MOW8A5WC4J|          5|            0|          0|   N|                Y|\n",
            "|R101X7KSBGIWF1|          1|            0|          0|   N|                Y|\n",
            "|R101ZTSTDC8KQ4|          5|            0|          0|   N|                Y|\n",
            "|R103Q4U55JZAD1|          5|            0|          0|   N|                Y|\n",
            "|R103SW6BLR1HH6|          5|            0|          0|   N|                Y|\n",
            "|R1048AZPZ1XQVY|          4|            0|          0|   N|                Y|\n",
            "|R104C56FZRE21Q|          5|            0|          0|   N|                Y|\n",
            "+--------------+-----------+-------------+-----------+----+-----------------+\n",
            "only showing top 10 rows\n",
            "\n"
          ]
        }
      ]
    },
    {
      "cell_type": "code",
      "source": [
        "# Filter the Vine DataFrame by those that had 20+ total votes\n",
        "vine_df2 = vine_df.filter(vine_df[\"total_votes\"] >= 20)\n",
        "vine_df2.show(20)"
      ],
      "metadata": {
        "colab": {
          "base_uri": "https://localhost:8080/"
        },
        "id": "w54rhNJ3OQm9",
        "outputId": "85dc4118-eec5-47de-d5b3-06a20366dfb9"
      },
      "execution_count": 9,
      "outputs": [
        {
          "output_type": "stream",
          "name": "stdout",
          "text": [
            "+--------------+-----------+-------------+-----------+----+-----------------+\n",
            "|     review_id|star_rating|helpful_votes|total_votes|vine|verified_purchase|\n",
            "+--------------+-----------+-------------+-----------+----+-----------------+\n",
            "|R23Z2K6GIQ2E6O|          4|           19|         20|   N|                Y|\n",
            "|R2SSU7RT61AYK2|          4|           87|         98|   N|                Y|\n",
            "| RPRP6F6ABCLLK|          2|           28|         39|   N|                Y|\n",
            "| RGOVXI764T1KO|          1|            5|         23|   N|                Y|\n",
            "|R39UPDNM5TECB5|          5|           23|         23|   N|                N|\n",
            "|R2RW4T8KWXQXZQ|          1|           40|         65|   N|                N|\n",
            "|R1L6ICM6QT2MIZ|          5|           16|         24|   N|                N|\n",
            "|R1FYGNGA4R87BV|          1|            2|         45|   N|                N|\n",
            "|R2IB86CLUPL35Y|          1|           16|         86|   N|                N|\n",
            "|R1JAN381JW53ZT|          4|           26|         27|   N|                Y|\n",
            "|R2JHU38DDVJTPW|          1|            3|         21|   N|                Y|\n",
            "|R33OTY8CWC7O6T|          2|           12|         24|   N|                N|\n",
            "|R1S41I7PHZEMI1|          4|           75|        108|   N|                N|\n",
            "|R3MFHNRMGPFIZ8|          5|           74|         93|   N|                N|\n",
            "|R2XU071TG0473E|          1|           24|         24|   N|                Y|\n",
            "|R3NE9SNTDMRDBM|          1|            8|        155|   N|                N|\n",
            "| RA1IRMJDL4PPP|          5|           85|         95|   N|                N|\n",
            "|R3DCWK5I76DTF2|          3|           21|         28|   N|                N|\n",
            "| RZ963U6PEWGUR|          1|           29|         44|   N|                Y|\n",
            "|R2XPM6RC7R4WLF|          1|          109|        139|   N|                N|\n",
            "+--------------+-----------+-------------+-----------+----+-----------------+\n",
            "only showing top 20 rows\n",
            "\n"
          ]
        }
      ]
    },
    {
      "cell_type": "code",
      "source": [
        "\n",
        "# Filter the Vine DataFrame by those that had 50%+ of helpful votes\n",
        "vine_df3 = vine_df2.filter(vine_df2[\"helpful_votes\"]/vine_df2[\"total_votes\"] >= 0.5)\n",
        "vine_df3.show(20)"
      ],
      "metadata": {
        "colab": {
          "base_uri": "https://localhost:8080/"
        },
        "id": "LeqmnI4POSw-",
        "outputId": "3d1dcccd-d475-4a6c-f291-1050b31dae09"
      },
      "execution_count": 10,
      "outputs": [
        {
          "output_type": "stream",
          "name": "stdout",
          "text": [
            "+--------------+-----------+-------------+-----------+----+-----------------+\n",
            "|     review_id|star_rating|helpful_votes|total_votes|vine|verified_purchase|\n",
            "+--------------+-----------+-------------+-----------+----+-----------------+\n",
            "|R23Z2K6GIQ2E6O|          4|           19|         20|   N|                Y|\n",
            "|R2SSU7RT61AYK2|          4|           87|         98|   N|                Y|\n",
            "| RPRP6F6ABCLLK|          2|           28|         39|   N|                Y|\n",
            "|R39UPDNM5TECB5|          5|           23|         23|   N|                N|\n",
            "|R2RW4T8KWXQXZQ|          1|           40|         65|   N|                N|\n",
            "|R1L6ICM6QT2MIZ|          5|           16|         24|   N|                N|\n",
            "|R1JAN381JW53ZT|          4|           26|         27|   N|                Y|\n",
            "|R33OTY8CWC7O6T|          2|           12|         24|   N|                N|\n",
            "|R1S41I7PHZEMI1|          4|           75|        108|   N|                N|\n",
            "|R3MFHNRMGPFIZ8|          5|           74|         93|   N|                N|\n",
            "|R2XU071TG0473E|          1|           24|         24|   N|                Y|\n",
            "| RA1IRMJDL4PPP|          5|           85|         95|   N|                N|\n",
            "|R3DCWK5I76DTF2|          3|           21|         28|   N|                N|\n",
            "| RZ963U6PEWGUR|          1|           29|         44|   N|                Y|\n",
            "|R2XPM6RC7R4WLF|          1|          109|        139|   N|                N|\n",
            "|R1Z2IYRD9NUXWZ|          1|           22|         31|   N|                Y|\n",
            "|R3ELYIGUMKWZGU|          5|           13|         21|   N|                N|\n",
            "| RQEFMEFN5OC9Z|          3|           62|         75|   N|                N|\n",
            "|R362DNPFPXSA38|          5|           66|         75|   N|                Y|\n",
            "| RFYTPTL3S1ESX|          1|           21|         26|   N|                N|\n",
            "+--------------+-----------+-------------+-----------+----+-----------------+\n",
            "only showing top 20 rows\n",
            "\n"
          ]
        }
      ]
    },
    {
      "cell_type": "code",
      "source": [
        "# Filter the Vine DataFrame by those that have a vine review\n",
        "vine_yes_review_df = vine_df3.filter(vine_df3[\"vine\"] == \"Y\")\n",
        "vine_yes_review_df.show(20)"
      ],
      "metadata": {
        "colab": {
          "base_uri": "https://localhost:8080/"
        },
        "id": "V-jEMgRQOp-Z",
        "outputId": "4b4eed6c-5cfa-45e0-c076-706b05fb4bcf"
      },
      "execution_count": 13,
      "outputs": [
        {
          "output_type": "stream",
          "name": "stdout",
          "text": [
            "+--------------+-----------+-------------+-----------+----+-----------------+\n",
            "|     review_id|star_rating|helpful_votes|total_votes|vine|verified_purchase|\n",
            "+--------------+-----------+-------------+-----------+----+-----------------+\n",
            "|R1PU7JY8XL5M1N|          5|           19|         24|   Y|                N|\n",
            "|R23WY68NT94WKE|          5|          125|        143|   Y|                N|\n",
            "|R1JRR530H4COA2|          5|           22|         28|   Y|                N|\n",
            "|R1UBDJF7PWB8BL|          2|           43|         59|   Y|                N|\n",
            "|R1TNOMT3O5DZ0Z|          4|           27|         32|   Y|                N|\n",
            "| RYBLWBAL5M1AY|          4|           68|         76|   Y|                N|\n",
            "|R1IN4WPVLZB86G|          5|           34|         37|   Y|                N|\n",
            "|R1QTD3QXCKGOG0|          5|           34|         34|   Y|                N|\n",
            "|R2XT37DDSZ8ROK|          3|           28|         53|   Y|                N|\n",
            "| REQZP78LTC0EY|          4|           21|         23|   Y|                N|\n",
            "|R20J4UHHFEARY9|          5|           48|         59|   Y|                N|\n",
            "|R286MFBAJ8NPD6|          5|           46|         51|   Y|                N|\n",
            "| RF41VQVEOQ4DV|          5|           17|         22|   Y|                N|\n",
            "|R2TYARK2PB70B4|          3|           31|         40|   Y|                N|\n",
            "|R2OWPC3GFA3377|          5|           30|         34|   Y|                N|\n",
            "| RNRUIQVK27RDZ|          3|           17|         25|   Y|                N|\n",
            "|R1A7M6ADCYEE81|          5|           71|         86|   Y|                N|\n",
            "| RLPTVGLU0JQIP|          3|           42|         45|   Y|                N|\n",
            "| RKKMH184GEHKD|          5|           19|         23|   Y|                N|\n",
            "| RKG407AVAZXBQ|          3|           22|         25|   Y|                N|\n",
            "+--------------+-----------+-------------+-----------+----+-----------------+\n",
            "only showing top 20 rows\n",
            "\n"
          ]
        }
      ]
    },
    {
      "cell_type": "code",
      "source": [
        "# Filter the Vine DataFrame by those that have a vine review\n",
        "vine_no_review_df = vine_df3.filter(vine_df3[\"vine\"] == \"N\")\n",
        "vine_no_review_df.show(20)"
      ],
      "metadata": {
        "colab": {
          "base_uri": "https://localhost:8080/"
        },
        "id": "dEcg5T6mPFH8",
        "outputId": "33277bf3-3d0b-4c31-de49-7c897dcefeaa"
      },
      "execution_count": 14,
      "outputs": [
        {
          "output_type": "stream",
          "name": "stdout",
          "text": [
            "+--------------+-----------+-------------+-----------+----+-----------------+\n",
            "|     review_id|star_rating|helpful_votes|total_votes|vine|verified_purchase|\n",
            "+--------------+-----------+-------------+-----------+----+-----------------+\n",
            "|R23Z2K6GIQ2E6O|          4|           19|         20|   N|                Y|\n",
            "|R2SSU7RT61AYK2|          4|           87|         98|   N|                Y|\n",
            "| RPRP6F6ABCLLK|          2|           28|         39|   N|                Y|\n",
            "|R39UPDNM5TECB5|          5|           23|         23|   N|                N|\n",
            "|R2RW4T8KWXQXZQ|          1|           40|         65|   N|                N|\n",
            "|R1L6ICM6QT2MIZ|          5|           16|         24|   N|                N|\n",
            "|R1JAN381JW53ZT|          4|           26|         27|   N|                Y|\n",
            "|R33OTY8CWC7O6T|          2|           12|         24|   N|                N|\n",
            "|R1S41I7PHZEMI1|          4|           75|        108|   N|                N|\n",
            "|R3MFHNRMGPFIZ8|          5|           74|         93|   N|                N|\n",
            "|R2XU071TG0473E|          1|           24|         24|   N|                Y|\n",
            "| RA1IRMJDL4PPP|          5|           85|         95|   N|                N|\n",
            "|R3DCWK5I76DTF2|          3|           21|         28|   N|                N|\n",
            "| RZ963U6PEWGUR|          1|           29|         44|   N|                Y|\n",
            "|R2XPM6RC7R4WLF|          1|          109|        139|   N|                N|\n",
            "|R1Z2IYRD9NUXWZ|          1|           22|         31|   N|                Y|\n",
            "|R3ELYIGUMKWZGU|          5|           13|         21|   N|                N|\n",
            "| RQEFMEFN5OC9Z|          3|           62|         75|   N|                N|\n",
            "|R362DNPFPXSA38|          5|           66|         75|   N|                Y|\n",
            "| RFYTPTL3S1ESX|          1|           21|         26|   N|                N|\n",
            "+--------------+-----------+-------------+-----------+----+-----------------+\n",
            "only showing top 20 rows\n",
            "\n"
          ]
        }
      ]
    },
    {
      "cell_type": "code",
      "source": [
        "# to import statistics \n",
        "from pyspark.sql.functions import col, avg"
      ],
      "metadata": {
        "id": "YzM1At7iPWlc"
      },
      "execution_count": 15,
      "outputs": []
    },
    {
      "cell_type": "code",
      "source": [
        "# Get summary statistics of those that had vine reviews\n",
        "vine_yes_review_df.describe().show()"
      ],
      "metadata": {
        "colab": {
          "base_uri": "https://localhost:8080/"
        },
        "id": "zH0JCYnvPe6l",
        "outputId": "cece9588-c63d-439d-887b-727bdf35d663"
      },
      "execution_count": 17,
      "outputs": [
        {
          "output_type": "stream",
          "name": "stdout",
          "text": [
            "+-------+--------------+------------------+-----------------+------------------+----+-----------------+\n",
            "|summary|     review_id|       star_rating|    helpful_votes|       total_votes|vine|verified_purchase|\n",
            "+-------+--------------+------------------+-----------------+------------------+----+-----------------+\n",
            "|  count|            94|                94|               94|                94|  94|               94|\n",
            "|   mean|          null| 4.202127659574468|54.59574468085106|61.787234042553195|null|             null|\n",
            "| stddev|          null|0.9791348741656417|65.26098459822538| 68.90976994895394|null|             null|\n",
            "|    min|R10FO5UKKVZBK2|                 1|               14|                20|   Y|                N|\n",
            "|    max| RYBLWBAL5M1AY|                 5|              347|               362|   Y|                N|\n",
            "+-------+--------------+------------------+-----------------+------------------+----+-----------------+\n",
            "\n"
          ]
        }
      ]
    },
    {
      "cell_type": "code",
      "source": [
        "# Get summary statistics of those that did not have vine reviews\n",
        "vine_no_review_df.describe().show()"
      ],
      "metadata": {
        "colab": {
          "base_uri": "https://localhost:8080/"
        },
        "id": "F_RkZckPPkuY",
        "outputId": "0d8c17d8-8cc6-4f1c-d1ce-19365936315c"
      },
      "execution_count": 18,
      "outputs": [
        {
          "output_type": "stream",
          "name": "stdout",
          "text": [
            "+-------+--------------+------------------+------------------+------------------+-----+-----------------+\n",
            "|summary|     review_id|       star_rating|     helpful_votes|       total_votes| vine|verified_purchase|\n",
            "+-------+--------------+------------------+------------------+------------------+-----+-----------------+\n",
            "|  count|         40471|             40471|             40471|             40471|40471|            40471|\n",
            "|   mean|          null|  3.34765634651973|47.428405524943784|55.891057794470115| null|             null|\n",
            "| stddev|          null|1.6418850112078012| 117.5376337068714|127.40280622961957| null|             null|\n",
            "|    min|R1005PFAPGMYQS|                 1|                10|                20|    N|                N|\n",
            "|    max| RZZTUIX1574RC|                 5|             10498|             10780|    N|                Y|\n",
            "+-------+--------------+------------------+------------------+------------------+-----+-----------------+\n",
            "\n"
          ]
        }
      ]
    },
    {
      "cell_type": "markdown",
      "source": [
        "Conclusion- There seems to be a bias among \"Star Ratings\", as there are 40,471 records that did not have vine reviews, on the other hand 94 records have vine reviews."
      ],
      "metadata": {
        "id": "PwrgfEVZP1jE"
      }
    },
    {
      "cell_type": "code",
      "source": [
        "# Get percentage of 5-star rating among those records that had vine reviews\n",
        "paid_five_star_number = vine_yes_review_df[vine_yes_review_df['star_rating']== 5].count()\n",
        "paid_number = vine_yes_review_df.count()\n",
        "percentage_five_star_vine = float(paid_five_star_number) / float(paid_number)\n",
        "\n",
        "print(paid_number)\n",
        "print(paid_five_star_number)\n",
        "print(percentage_five_star_vine)"
      ],
      "metadata": {
        "colab": {
          "base_uri": "https://localhost:8080/"
        },
        "id": "vwbe8WwWQcV0",
        "outputId": "acbd617d-e686-4be3-a5de-4ca5f91c4adc"
      },
      "execution_count": 20,
      "outputs": [
        {
          "output_type": "stream",
          "name": "stdout",
          "text": [
            "94\n",
            "48\n",
            "0.5106382978723404\n"
          ]
        }
      ]
    },
    {
      "cell_type": "code",
      "source": [
        "# Get percentage of 5-star rating among those record that did not have vine reviews\n",
        "paid_five_star_number = vine_no_review_df[vine_no_review_df['star_rating']== 5].count()\n",
        "paid_number = vine_no_review_df.count()\n",
        "percentage_five_star_vine = float(paid_five_star_number) / float(paid_number)\n",
        "\n",
        "print(paid_number)\n",
        "print(paid_five_star_number)\n",
        "print(percentage_five_star_vine)\n",
        "     "
      ],
      "metadata": {
        "colab": {
          "base_uri": "https://localhost:8080/"
        },
        "id": "ntEbnr-fQupS",
        "outputId": "a757276e-ea2e-47fa-cd40-fef111585217"
      },
      "execution_count": 21,
      "outputs": [
        {
          "output_type": "stream",
          "name": "stdout",
          "text": [
            "40471\n",
            "15663\n",
            "0.38701786464381904\n"
          ]
        }
      ]
    },
    {
      "cell_type": "markdown",
      "source": [
        "Conclusion- 51.06% of the Vine program gave a 5-star rating, whereas 38.70% of who had no review also gave a 5-star rating. Based on these numbers there is the possibility of biased in the Vine/Star-Rating reviews."
      ],
      "metadata": {
        "id": "CQmb0LBxRDxt"
      }
    }
  ]
}